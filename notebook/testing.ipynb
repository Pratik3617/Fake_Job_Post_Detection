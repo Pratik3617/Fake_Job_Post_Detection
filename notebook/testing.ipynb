{
 "cells": [
  {
   "cell_type": "code",
   "execution_count": 1,
   "id": "26f462fe",
   "metadata": {},
   "outputs": [],
   "source": [
    "import pandas as pd\n",
    "df = pd.read_csv(\"fake_job_postings.csv\")"
   ]
  },
  {
   "cell_type": "code",
   "execution_count": 2,
   "id": "1b1dd5c1",
   "metadata": {},
   "outputs": [
    {
     "data": {
      "text/plain": [
       "Index(['job_id', 'title', 'location', 'department', 'salary_range',\n",
       "       'company_profile', 'description', 'requirements', 'benefits',\n",
       "       'telecommuting', 'has_company_logo', 'has_questions', 'employment_type',\n",
       "       'required_experience', 'required_education', 'industry', 'function',\n",
       "       'fraudulent'],\n",
       "      dtype='object')"
      ]
     },
     "execution_count": 2,
     "metadata": {},
     "output_type": "execute_result"
    }
   ],
   "source": [
    "df.columns"
   ]
  },
  {
   "cell_type": "code",
   "execution_count": 3,
   "id": "e943214a",
   "metadata": {},
   "outputs": [
    {
     "data": {
      "text/plain": [
       "job_id                     0\n",
       "title                      0\n",
       "location                 346\n",
       "department             11547\n",
       "salary_range           15012\n",
       "company_profile         3308\n",
       "description                1\n",
       "requirements            2696\n",
       "benefits                7212\n",
       "telecommuting              0\n",
       "has_company_logo           0\n",
       "has_questions              0\n",
       "employment_type         3471\n",
       "required_experience     7050\n",
       "required_education      8105\n",
       "industry                4903\n",
       "function                6455\n",
       "fraudulent                 0\n",
       "dtype: int64"
      ]
     },
     "execution_count": 3,
     "metadata": {},
     "output_type": "execute_result"
    }
   ],
   "source": [
    "df.isnull().sum()"
   ]
  },
  {
   "cell_type": "code",
   "execution_count": 4,
   "id": "1bd8c067",
   "metadata": {},
   "outputs": [
    {
     "name": "stdout",
     "output_type": "stream",
     "text": [
      "<class 'pandas.core.frame.DataFrame'>\n",
      "RangeIndex: 17880 entries, 0 to 17879\n",
      "Data columns (total 18 columns):\n",
      " #   Column               Non-Null Count  Dtype \n",
      "---  ------               --------------  ----- \n",
      " 0   job_id               17880 non-null  int64 \n",
      " 1   title                17880 non-null  object\n",
      " 2   location             17534 non-null  object\n",
      " 3   department           6333 non-null   object\n",
      " 4   salary_range         2868 non-null   object\n",
      " 5   company_profile      14572 non-null  object\n",
      " 6   description          17879 non-null  object\n",
      " 7   requirements         15184 non-null  object\n",
      " 8   benefits             10668 non-null  object\n",
      " 9   telecommuting        17880 non-null  int64 \n",
      " 10  has_company_logo     17880 non-null  int64 \n",
      " 11  has_questions        17880 non-null  int64 \n",
      " 12  employment_type      14409 non-null  object\n",
      " 13  required_experience  10830 non-null  object\n",
      " 14  required_education   9775 non-null   object\n",
      " 15  industry             12977 non-null  object\n",
      " 16  function             11425 non-null  object\n",
      " 17  fraudulent           17880 non-null  int64 \n",
      "dtypes: int64(5), object(13)\n",
      "memory usage: 2.5+ MB\n"
     ]
    }
   ],
   "source": [
    "df.info()"
   ]
  },
  {
   "cell_type": "code",
   "execution_count": 5,
   "id": "227cefb8",
   "metadata": {},
   "outputs": [
    {
     "data": {
      "text/html": [
       "<div>\n",
       "<style scoped>\n",
       "    .dataframe tbody tr th:only-of-type {\n",
       "        vertical-align: middle;\n",
       "    }\n",
       "\n",
       "    .dataframe tbody tr th {\n",
       "        vertical-align: top;\n",
       "    }\n",
       "\n",
       "    .dataframe thead th {\n",
       "        text-align: right;\n",
       "    }\n",
       "</style>\n",
       "<table border=\"1\" class=\"dataframe\">\n",
       "  <thead>\n",
       "    <tr style=\"text-align: right;\">\n",
       "      <th></th>\n",
       "      <th>job_id</th>\n",
       "      <th>telecommuting</th>\n",
       "      <th>has_company_logo</th>\n",
       "      <th>has_questions</th>\n",
       "      <th>fraudulent</th>\n",
       "    </tr>\n",
       "  </thead>\n",
       "  <tbody>\n",
       "    <tr>\n",
       "      <th>count</th>\n",
       "      <td>17880.000000</td>\n",
       "      <td>17880.000000</td>\n",
       "      <td>17880.000000</td>\n",
       "      <td>17880.000000</td>\n",
       "      <td>17880.000000</td>\n",
       "    </tr>\n",
       "    <tr>\n",
       "      <th>mean</th>\n",
       "      <td>8940.500000</td>\n",
       "      <td>0.042897</td>\n",
       "      <td>0.795302</td>\n",
       "      <td>0.491723</td>\n",
       "      <td>0.048434</td>\n",
       "    </tr>\n",
       "    <tr>\n",
       "      <th>std</th>\n",
       "      <td>5161.655742</td>\n",
       "      <td>0.202631</td>\n",
       "      <td>0.403492</td>\n",
       "      <td>0.499945</td>\n",
       "      <td>0.214688</td>\n",
       "    </tr>\n",
       "    <tr>\n",
       "      <th>min</th>\n",
       "      <td>1.000000</td>\n",
       "      <td>0.000000</td>\n",
       "      <td>0.000000</td>\n",
       "      <td>0.000000</td>\n",
       "      <td>0.000000</td>\n",
       "    </tr>\n",
       "    <tr>\n",
       "      <th>25%</th>\n",
       "      <td>4470.750000</td>\n",
       "      <td>0.000000</td>\n",
       "      <td>1.000000</td>\n",
       "      <td>0.000000</td>\n",
       "      <td>0.000000</td>\n",
       "    </tr>\n",
       "    <tr>\n",
       "      <th>50%</th>\n",
       "      <td>8940.500000</td>\n",
       "      <td>0.000000</td>\n",
       "      <td>1.000000</td>\n",
       "      <td>0.000000</td>\n",
       "      <td>0.000000</td>\n",
       "    </tr>\n",
       "    <tr>\n",
       "      <th>75%</th>\n",
       "      <td>13410.250000</td>\n",
       "      <td>0.000000</td>\n",
       "      <td>1.000000</td>\n",
       "      <td>1.000000</td>\n",
       "      <td>0.000000</td>\n",
       "    </tr>\n",
       "    <tr>\n",
       "      <th>max</th>\n",
       "      <td>17880.000000</td>\n",
       "      <td>1.000000</td>\n",
       "      <td>1.000000</td>\n",
       "      <td>1.000000</td>\n",
       "      <td>1.000000</td>\n",
       "    </tr>\n",
       "  </tbody>\n",
       "</table>\n",
       "</div>"
      ],
      "text/plain": [
       "             job_id  telecommuting  has_company_logo  has_questions  \\\n",
       "count  17880.000000   17880.000000      17880.000000   17880.000000   \n",
       "mean    8940.500000       0.042897          0.795302       0.491723   \n",
       "std     5161.655742       0.202631          0.403492       0.499945   \n",
       "min        1.000000       0.000000          0.000000       0.000000   \n",
       "25%     4470.750000       0.000000          1.000000       0.000000   \n",
       "50%     8940.500000       0.000000          1.000000       0.000000   \n",
       "75%    13410.250000       0.000000          1.000000       1.000000   \n",
       "max    17880.000000       1.000000          1.000000       1.000000   \n",
       "\n",
       "         fraudulent  \n",
       "count  17880.000000  \n",
       "mean       0.048434  \n",
       "std        0.214688  \n",
       "min        0.000000  \n",
       "25%        0.000000  \n",
       "50%        0.000000  \n",
       "75%        0.000000  \n",
       "max        1.000000  "
      ]
     },
     "execution_count": 5,
     "metadata": {},
     "output_type": "execute_result"
    }
   ],
   "source": [
    "df.describe()"
   ]
  },
  {
   "cell_type": "code",
   "execution_count": null,
   "id": "cd1c38a6",
   "metadata": {},
   "outputs": [],
   "source": [
    "train = pd.read_csv(\"/home/prateek/Projects/Fake_Job_Post_Detection/artifact/07_14_2025_14_26_57/data_ingestion/ingested/train.csv\")\n",
    "test = pd.read_csv(\"/home/prateek/Projects/Fake_Job_Post_Detection/artifact/07_14_2025_14_26_57/data_ingestion/ingested/test.csv\")"
   ]
  },
  {
   "cell_type": "code",
   "execution_count": 7,
   "id": "f5b81271",
   "metadata": {},
   "outputs": [
    {
     "name": "stdout",
     "output_type": "stream",
     "text": [
      "14304\n"
     ]
    },
    {
     "data": {
      "text/plain": [
       "job_id                     0\n",
       "title                      0\n",
       "location                 282\n",
       "department              9213\n",
       "salary_range           12013\n",
       "company_profile         2650\n",
       "description                1\n",
       "requirements            2137\n",
       "benefits                5766\n",
       "telecommuting              0\n",
       "has_company_logo           0\n",
       "has_questions              0\n",
       "employment_type         2786\n",
       "required_experience     5660\n",
       "required_education      6510\n",
       "industry                3930\n",
       "function                5179\n",
       "fraudulent                 0\n",
       "dtype: int64"
      ]
     },
     "execution_count": 7,
     "metadata": {},
     "output_type": "execute_result"
    }
   ],
   "source": [
    "print(len(train))\n",
    "train.isnull().sum()"
   ]
  },
  {
   "cell_type": "code",
   "execution_count": 8,
   "id": "d4430afd",
   "metadata": {},
   "outputs": [
    {
     "name": "stdout",
     "output_type": "stream",
     "text": [
      "0.6438059284116331\n"
     ]
    }
   ],
   "source": [
    "print(9209/14304)"
   ]
  },
  {
   "cell_type": "code",
   "execution_count": 9,
   "id": "88167bbe",
   "metadata": {},
   "outputs": [
    {
     "name": "stdout",
     "output_type": "stream",
     "text": [
      "3576\n"
     ]
    },
    {
     "data": {
      "text/plain": [
       "job_id                    0\n",
       "title                     0\n",
       "location                 64\n",
       "department             2334\n",
       "salary_range           2999\n",
       "company_profile         658\n",
       "description               0\n",
       "requirements            559\n",
       "benefits               1446\n",
       "telecommuting             0\n",
       "has_company_logo          0\n",
       "has_questions             0\n",
       "employment_type         685\n",
       "required_experience    1390\n",
       "required_education     1595\n",
       "industry                973\n",
       "function               1276\n",
       "fraudulent                0\n",
       "dtype: int64"
      ]
     },
     "execution_count": 9,
     "metadata": {},
     "output_type": "execute_result"
    }
   ],
   "source": [
    "print(len(test))\n",
    "test.isnull().sum()"
   ]
  },
  {
   "cell_type": "code",
   "execution_count": 10,
   "id": "c68972a8",
   "metadata": {},
   "outputs": [
    {
     "name": "stdout",
     "output_type": "stream",
     "text": [
      "0.6538031319910514\n"
     ]
    }
   ],
   "source": [
    "print(2338/3576)"
   ]
  },
  {
   "cell_type": "code",
   "execution_count": 11,
   "id": "66c2cefe",
   "metadata": {},
   "outputs": [
    {
     "name": "stdout",
     "output_type": "stream",
     "text": [
      "fraudulent  department  \n",
      "0           Sales           0.091342\n",
      "            Engineering     0.073529\n",
      "            Marketing       0.064830\n",
      "            Operations      0.043289\n",
      "            IT              0.037904\n",
      "                              ...   \n",
      "1           Work at home    0.003802\n",
      "            biotech         0.003802\n",
      "            hr              0.003802\n",
      "            medical         0.003802\n",
      "            reception       0.003802\n",
      "Name: proportion, Length: 1201, dtype: float64\n",
      "fraudulent  salary_range\n",
      "0           0-0             0.052805\n",
      "            40000-50000     0.025931\n",
      "            30000-40000     0.020745\n",
      "            45000-67000     0.016502\n",
      "            25000-30000     0.013673\n",
      "                              ...   \n",
      "1           80000-119000    0.005882\n",
      "            80000-200000    0.005882\n",
      "            80000-85000     0.005882\n",
      "            90000-100000    0.005882\n",
      "            Dec-25          0.005882\n",
      "Name: proportion, Length: 807, dtype: float64\n"
     ]
    }
   ],
   "source": [
    "print(train.groupby(\"fraudulent\")[\"department\"].value_counts(normalize=True))\n",
    "print(train.groupby(\"fraudulent\")[\"salary_range\"].value_counts(normalize=True))"
   ]
  },
  {
   "cell_type": "code",
   "execution_count": 12,
   "id": "a9a6a404",
   "metadata": {},
   "outputs": [],
   "source": [
    "# Drop low-value columns\n",
    "train.drop(columns=['department', 'salary_range'], inplace=True)\n",
    "\n",
    "# Fill 'Unknown' for categoricals\n",
    "unknown_fill_cols = ['location', 'employment_type', 'required_experience',\n",
    "                     'required_education', 'industry', 'function']\n",
    "for col in unknown_fill_cols:\n",
    "    train[col] = train[col].fillna('Unknown')\n",
    "\n",
    "# Fill empty strings for text\n",
    "text_fill_cols = ['company_profile', 'requirements', 'benefits']\n",
    "for col in text_fill_cols:\n",
    "    train[col] = train[col].fillna('')\n",
    "\n",
    "# Drop row with missing description\n",
    "train.dropna(subset=['description'], inplace=True)\n"
   ]
  },
  {
   "cell_type": "code",
   "execution_count": 13,
   "id": "387867e5",
   "metadata": {},
   "outputs": [],
   "source": [
    "# Drop low-value columns\n",
    "test.drop(columns=['department', 'salary_range'], inplace=True)\n",
    "\n",
    "# Fill 'Unknown' for categoricals\n",
    "unknown_fill_cols = ['location', 'employment_type', 'required_experience',\n",
    "                     'required_education', 'industry', 'function']\n",
    "for col in unknown_fill_cols:\n",
    "    test[col] = test[col].fillna('Unknown')\n",
    "\n",
    "# Fill empty strings for text\n",
    "text_fill_cols = ['company_profile', 'requirements', 'benefits']\n",
    "for col in text_fill_cols:\n",
    "    test[col] = test[col].fillna('')"
   ]
  },
  {
   "cell_type": "code",
   "execution_count": 14,
   "id": "c3a34009",
   "metadata": {},
   "outputs": [
    {
     "name": "stdout",
     "output_type": "stream",
     "text": [
      "[ColumnTransformer] .... (1 of 7) Processing text_title, total=   0.1s\n",
      "[ColumnTransformer]  (2 of 7) Processing text_company_profile, total=   0.7s\n",
      "[ColumnTransformer]  (3 of 7) Processing text_description, total=   1.5s\n",
      "[ColumnTransformer]  (4 of 7) Processing text_requirements, total=   0.7s\n",
      "[ColumnTransformer] . (5 of 7) Processing text_benefits, total=   0.3s\n",
      "[ColumnTransformer] ........... (6 of 7) Processing cat, total=   0.0s\n",
      "[ColumnTransformer] ........... (7 of 7) Processing num, total=   0.0s\n",
      "Transformed X_train shape: (14303, 4427)\n"
     ]
    }
   ],
   "source": [
    "import pandas as pd\n",
    "from sklearn.compose import ColumnTransformer\n",
    "from sklearn.pipeline import Pipeline\n",
    "from sklearn.preprocessing import OneHotEncoder\n",
    "from sklearn.feature_extraction.text import TfidfVectorizer\n",
    "from sklearn.model_selection import train_test_split\n",
    "\n",
    "\n",
    "# Split Features and Target\n",
    "\n",
    "X_train = train.drop(columns=[\"fraudulent\"])\n",
    "y_train = train[\"fraudulent\"]\n",
    "\n",
    "\n",
    "# Define Column Groups\n",
    "\n",
    "text_cols = ['title', 'company_profile', 'description', 'requirements', 'benefits']\n",
    "cat_cols = ['location', 'employment_type', 'required_experience',\n",
    "            'required_education', 'industry', 'function']\n",
    "num_cols = ['telecommuting', 'has_company_logo', 'has_questions']\n",
    "\n",
    "\n",
    "# Define Pipelines for Each Column Type\n",
    "\n",
    "# One pipeline per text column (for better separation and parallel vectorization)\n",
    "text_transformers = [\n",
    "    (f\"text_{col}\", TfidfVectorizer(stop_words='english', max_features=300), col)\n",
    "    for col in text_cols\n",
    "]\n",
    "\n",
    "# Categorical pipeline\n",
    "cat_pipeline = Pipeline([\n",
    "    ('onehot', OneHotEncoder(handle_unknown='ignore', sparse_output=True))\n",
    "])\n",
    "\n",
    "# Combine all in ColumnTransformer\n",
    "preprocessor = ColumnTransformer(\n",
    "    transformers=[\n",
    "        *text_transformers,                     # Each text column\n",
    "        ('cat', cat_pipeline, cat_cols),        # Categorical columns\n",
    "        ('num', 'passthrough', num_cols)        # Numeric columns\n",
    "    ],\n",
    "    verbose=True\n",
    ")\n",
    "\n",
    "\n",
    "# Fit and Transform the Training Data\n",
    "\n",
    "X_train_transformed = preprocessor.fit_transform(X_train)\n",
    "\n",
    "print(f\"Transformed X_train shape: {X_train_transformed.shape}\")\n"
   ]
  },
  {
   "cell_type": "code",
   "execution_count": 15,
   "id": "b3f89977",
   "metadata": {},
   "outputs": [
    {
     "name": "stdout",
     "output_type": "stream",
     "text": [
      "Transformed X_test shape: (3576, 4427)\n"
     ]
    }
   ],
   "source": [
    "# Split Features and Target\n",
    "\n",
    "X_test = test.drop(columns=[\"fraudulent\"])\n",
    "y_test = test[\"fraudulent\"]\n",
    "\n",
    "\n",
    "X_test_transformed = preprocessor.transform(X_test)\n",
    "\n",
    "print(f\"Transformed X_test shape: {X_test_transformed.shape}\")\n"
   ]
  },
  {
   "cell_type": "code",
   "execution_count": 16,
   "id": "f5ddfafc",
   "metadata": {},
   "outputs": [],
   "source": [
    "from sklearn.linear_model import LogisticRegression\n",
    "from sklearn.ensemble import RandomForestClassifier\n",
    "from xgboost import XGBClassifier\n",
    "from sklearn.svm import SVC\n",
    "\n",
    "model_configs = {\n",
    "    \"LogisticRegression\": LogisticRegression(max_iter=1000, class_weight='balanced'),\n",
    "    \n",
    "    \"RandomForest\": RandomForestClassifier(\n",
    "        n_estimators=100, max_depth=10, class_weight='balanced', random_state=42\n",
    "    ),\n",
    "\n",
    "    \"XGBoost\": XGBClassifier(\n",
    "        use_label_encoder=False, eval_metric='logloss', max_depth=6, learning_rate=0.1\n",
    "    ),\n",
    "\n",
    "    \"SVC\": SVC(\n",
    "        kernel='rbf', probability=True, class_weight='balanced'\n",
    "    )\n",
    "}"
   ]
  },
  {
   "cell_type": "code",
   "execution_count": 17,
   "id": "781852ff",
   "metadata": {},
   "outputs": [],
   "source": [
    "from sklearn.metrics import classification_report, roc_auc_score\n",
    "\n",
    "def evaluate_model(name, model, X_train, y_train, X_test, y_test):\n",
    "    model.fit(X_train, y_train)\n",
    "    y_pred = model.predict(X_test)\n",
    "    y_proba = model.predict_proba(X_test)[:, 1]\n",
    "\n",
    "    print(f\"\\n====== {name} ======\")\n",
    "    print(classification_report(y_test, y_pred))\n",
    "    print(f\"ROC AUC Score: {roc_auc_score(y_test, y_proba):.4f}\")\n",
    "    \n",
    "    return {\n",
    "        \"model\": model,\n",
    "        \"roc_auc\": roc_auc_score(y_test, y_proba)\n",
    "    }\n"
   ]
  },
  {
   "cell_type": "code",
   "execution_count": 18,
   "id": "c64165bb",
   "metadata": {},
   "outputs": [
    {
     "name": "stdout",
     "output_type": "stream",
     "text": [
      "\n",
      "====== LogisticRegression ======\n",
      "              precision    recall  f1-score   support\n",
      "\n",
      "           0       1.00      0.98      0.99      3394\n",
      "           1       0.68      0.93      0.79       182\n",
      "\n",
      "    accuracy                           0.97      3576\n",
      "   macro avg       0.84      0.95      0.89      3576\n",
      "weighted avg       0.98      0.97      0.98      3576\n",
      "\n",
      "ROC AUC Score: 0.9893\n",
      "\n",
      "====== RandomForest ======\n",
      "              precision    recall  f1-score   support\n",
      "\n",
      "           0       1.00      0.87      0.93      3394\n",
      "           1       0.29      0.97      0.44       182\n",
      "\n",
      "    accuracy                           0.88      3576\n",
      "   macro avg       0.64      0.92      0.69      3576\n",
      "weighted avg       0.96      0.88      0.91      3576\n",
      "\n",
      "ROC AUC Score: 0.9727\n"
     ]
    },
    {
     "name": "stderr",
     "output_type": "stream",
     "text": [
      "/home/prateek/Projects/Fake_Job_Post_Detection/fake_job/lib/python3.12/site-packages/xgboost/training.py:183: UserWarning: [05:51:29] WARNING: /workspace/src/learner.cc:738: \n",
      "Parameters: { \"use_label_encoder\" } are not used.\n",
      "\n",
      "  bst.update(dtrain, iteration=i, fobj=obj)\n"
     ]
    },
    {
     "name": "stdout",
     "output_type": "stream",
     "text": [
      "\n",
      "====== XGBoost ======\n",
      "              precision    recall  f1-score   support\n",
      "\n",
      "           0       0.98      1.00      0.99      3394\n",
      "           1       0.98      0.66      0.79       182\n",
      "\n",
      "    accuracy                           0.98      3576\n",
      "   macro avg       0.98      0.83      0.89      3576\n",
      "weighted avg       0.98      0.98      0.98      3576\n",
      "\n",
      "ROC AUC Score: 0.9886\n",
      "\n",
      "====== SVC ======\n",
      "              precision    recall  f1-score   support\n",
      "\n",
      "           0       0.99      1.00      0.99      3394\n",
      "           1       0.93      0.86      0.89       182\n",
      "\n",
      "    accuracy                           0.99      3576\n",
      "   macro avg       0.96      0.93      0.94      3576\n",
      "weighted avg       0.99      0.99      0.99      3576\n",
      "\n",
      "ROC AUC Score: 0.9934\n"
     ]
    }
   ],
   "source": [
    "results = {}\n",
    "\n",
    "for name, model in model_configs.items():\n",
    "    result = evaluate_model(name, model, X_train_transformed, y_train, X_test_transformed, y_test)\n",
    "    results[name] = result\n"
   ]
  },
  {
   "cell_type": "code",
   "execution_count": 20,
   "id": "0a137751",
   "metadata": {},
   "outputs": [
    {
     "name": "stdout",
     "output_type": "stream",
     "text": [
      "\n",
      "✅ Best model: SVC\n"
     ]
    }
   ],
   "source": [
    "best_model_name = max(results, key=lambda x: results[x]['roc_auc'])\n",
    "best_model = results[best_model_name]['model']\n",
    "\n",
    "print(f\"\\n✅ Best model: {best_model_name}\")\n"
   ]
  },
  {
   "cell_type": "code",
   "execution_count": null,
   "id": "c4e76ffc",
   "metadata": {},
   "outputs": [],
   "source": []
  }
 ],
 "metadata": {
  "kernelspec": {
   "display_name": "fake_job",
   "language": "python",
   "name": "python3"
  },
  "language_info": {
   "codemirror_mode": {
    "name": "ipython",
    "version": 3
   },
   "file_extension": ".py",
   "mimetype": "text/x-python",
   "name": "python",
   "nbconvert_exporter": "python",
   "pygments_lexer": "ipython3",
   "version": "3.12.3"
  }
 },
 "nbformat": 4,
 "nbformat_minor": 5
}
